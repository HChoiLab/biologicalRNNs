{
 "cells": [
  {
   "cell_type": "markdown",
   "id": "8ef82f54-68e4-4def-b2fc-6c7f851bac66",
   "metadata": {},
   "source": [
    "#### Imports"
   ]
  },
  {
   "cell_type": "code",
   "execution_count": 35,
   "id": "e41db13f-cd23-4598-a84e-a4a884899531",
   "metadata": {},
   "outputs": [],
   "source": [
    "import numpy as np\n",
    "import matplotlib.pyplot as plt\n",
    "from scipy.stats import wilcoxon, mannwhitneyu"
   ]
  },
  {
   "cell_type": "markdown",
   "id": "88a1af80-2d16-49f7-a590-5719307608c5",
   "metadata": {},
   "source": [
    "#### Load errors"
   ]
  },
  {
   "cell_type": "code",
   "execution_count": 36,
   "id": "d0c9e734-d6d3-4bca-a528-d4a4bc7f7c23",
   "metadata": {},
   "outputs": [],
   "source": [
    "rndm_wave = np.load('errors_list_random_wave_recon.npy')\n",
    "rndm_flip = np.load('errors_list_random_flipflop.npy')\n",
    "rndm_mnist = np.load('errors_list_random_seq_mnist.npy')\n",
    "\n",
    "tppb_wave = np.load('errors_list_topprob_wave_recon.npy')\n",
    "tppb_flip = np.load('errors_list_topprob_flipflop.npy')\n",
    "tppb_mnist = np.load('errors_list_topprob_seq_mnist.npy')"
   ]
  },
  {
   "cell_type": "code",
   "execution_count": 37,
   "id": "366330a5-53a2-4273-bd0b-fea1e42bcee4",
   "metadata": {},
   "outputs": [],
   "source": [
    "# Perform significance test\n",
    "tasks = ['Flip-flop', 'Wave reconstruction', 'Sequential MNIST']\n",
    "data_random = [rndm_flip, rndm_wave, rndm_mnist]\n",
    "data_topprob = [tppb_flip, tppb_wave, tppb_mnist]"
   ]
  },
  {
   "cell_type": "code",
   "execution_count": 42,
   "id": "e16088a2-33f5-4a17-a2db-ff748be70bb5",
   "metadata": {},
   "outputs": [
    {
     "name": "stdout",
     "output_type": "stream",
     "text": [
      "Max Means1 (Random Pruning): [0.5040642517968081, 0.15540214680756131, 4.782941165566444]\n",
      "Max Means2 (Top-Prob Pruning): [0.3839351092853273, 0.1514391491189599, 2.95260539551576]\n",
      "Error1 (Max CI): [0.04917505095317185, 0.02053198902555425, 0.3768621782901214]\n",
      "Error2 (Max CI): [0.07328720120351206, 0.024479497648058752, 0.44498121605085333]\n",
      "Aggregated P-Values: [0.012185780355344813, 0.02157174794772092, 0.012185780355344813]\n",
      "Significance Labels: ['*', '*', '*']\n"
     ]
    },
    {
     "data": {
      "image/png": "[encoded data removed]",
      "text/plain": [
       "<Figure size 640x480 with 1 Axes>"
      ]
     },
     "metadata": {},
     "output_type": "display_data"
    }
   ],
   "source": [
    "from scipy.stats import sem, norm\n",
    "\n",
    "# Define confidence level\n",
    "confidence_level = 0.95\n",
    "z = norm.ppf(1 - (1 - confidence_level) / 2)  # Critical value for 95% confidence\n",
    "\n",
    "# Aggregate means across runs and sparsities\n",
    "means1 = [np.max(np.mean(rndm, axis=1)) for rndm in data_random]  # Max mean error across sparsities\n",
    "means2 = [np.max(np.mean(tppb, axis=1)) for tppb in data_topprob]\n",
    "\n",
    "# Calculate SEM and take max SEM across sparsities\n",
    "sem1 = [sem(rndm.flatten()) for rndm in data_random]  # Flatten for all values across sparsities\n",
    "sem2 = [sem(tppb.flatten()) for tppb in data_topprob]\n",
    "\n",
    "# Confidence intervals using max SEM\n",
    "error1 = [z * s for s in sem1]\n",
    "error2 = [z * s for s in sem2]\n",
    "\n",
    "# Take minimum p-value across sparsities for significance\n",
    "aggregated_p_values = [np.min(p_array) for p_array in p_values]\n",
    "# aggregated_p_values = [np.mean(p_array) for p_array in p_values]\n",
    "significance_labels = ['*' if p < 0.05 else 'ns' for p in aggregated_p_values]\n",
    "\n",
    "# Debug: Print results for verification\n",
    "print(\"Max Means1 (Random Pruning):\", means1)\n",
    "print(\"Max Means2 (Top-Prob Pruning):\", means2)\n",
    "print(\"Error1 (Max CI):\", error1)\n",
    "print(\"Error2 (Max CI):\", error2)\n",
    "print(\"Aggregated P-Values:\", aggregated_p_values)\n",
    "print(\"Significance Labels:\", significance_labels)\n",
    "\n",
    "# Plot with maximum-based confidence intervals\n",
    "bar_width = 0.25\n",
    "r1 = np.arange(len(tasks))\n",
    "r2 = [x + bar_width for x in r1]\n",
    "\n",
    "f_errors_pruning = plt.figure()\n",
    "\n",
    "plt.bar(r1, means1, yerr=error1, capsize=2, width=bar_width, label='Random Pruning', color='grey')\n",
    "plt.bar(r2, means2, yerr=error2, capsize=2, width=bar_width, label='Top-prob Pruning', color='g')\n",
    "\n",
    "# Add significance annotations\n",
    "for i, (r1_pos, r2_pos, label) in enumerate(zip(r1, r2, significance_labels)):\n",
    "    y = max(means1[i] + error1[i], means2[i] + error2[i]) + 0.1\n",
    "    plt.text((r1_pos + r2_pos) / 2, y, label, ha='center', color='black')\n",
    "\n",
    "plt.xlabel('Tasks')\n",
    "plt.xticks([r + bar_width/2 for r in range(len(tasks))], tasks)\n",
    "plt.ylabel('Errors')\n",
    "plt.title('Errors of Pruned Models at Initialization')\n",
    "plt.legend()\n",
    "plt.show()"
   ]
  },
  {
   "cell_type": "code",
   "execution_count": 44,
   "id": "2dc7225a-a424-40d2-8020-211ab0327c5b",
   "metadata": {},
   "outputs": [
    {
     "name": "stderr",
     "output_type": "stream",
     "text": [
      "The PostScript backend does not support transparency; partially transparent artists will be rendered opaque.\n"
     ]
    }
   ],
   "source": [
    "f_errors_pruning.savefig('pruning_errors_init.eps')"
   ]
  },
  {
   "cell_type": "code",
   "execution_count": null,
   "id": "1e2dfe9d-7898-45df-b2d2-c691196dd31e",
   "metadata": {},
   "outputs": [],
   "source": []
  },
  {
   "cell_type": "code",
   "execution_count": null,
   "id": "e2fb49a8-b8a2-4422-8fdb-b8bc5252c83f",
   "metadata": {},
   "outputs": [],
   "source": []
  }
 ],
 "metadata": {
  "kernelspec": {
   "display_name": "Python 3 (ipykernel)",
   "language": "python",
   "name": "python3"
  },
  "language_info": {
   "codemirror_mode": {
    "name": "ipython",
    "version": 3
   },
   "file_extension": ".py",
   "mimetype": "text/x-python",
   "name": "python",
   "nbconvert_exporter": "python",
   "pygments_lexer": "ipython3",
   "version": "3.10.12"
  }
 },
 "nbformat": 4,
 "nbformat_minor": 5
}
