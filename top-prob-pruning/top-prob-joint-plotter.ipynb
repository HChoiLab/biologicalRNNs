{
 "cells": [
  {
   "cell_type": "markdown",
   "id": "8d9b3069",
   "metadata": {},
   "source": [
    "#### Imports"
   ]
  },
  {
   "cell_type": "code",
   "execution_count": 1,
   "id": "c210c917",
   "metadata": {},
   "outputs": [],
   "source": [
    "import numpy as np\n",
    "import matplotlib.pyplot as plt\n",
    "import seaborn as sns"
   ]
  },
  {
   "cell_type": "markdown",
   "id": "fde8046a",
   "metadata": {},
   "source": [
    "#### Load error npys"
   ]
  },
  {
   "cell_type": "code",
   "execution_count": 2,
   "id": "cea6e88a",
   "metadata": {},
   "outputs": [],
   "source": [
    "rndm_wave = np.load('errors_list_random_wave_recon.npy')\n",
    "rndm_flip = np.load('errors_list_random_flipflop.npy')\n",
    "rndm_mnist = np.load('errors_list_random_seq_mnist.npy')\n",
    "\n",
    "tppb_wave = np.load('errors_list_topprob_wave_recon.npy')\n",
    "tppb_flip = np.load('errors_list_topprob_flipflop.npy')\n",
    "tppb_mnist = np.load('errors_list_topprob_seq_mnist.npy')"
   ]
  },
  {
   "cell_type": "markdown",
   "id": "f5742ee1",
   "metadata": {},
   "source": [
    "#### Means and deviations"
   ]
  },
  {
   "cell_type": "code",
   "execution_count": 10,
   "id": "66e862dd",
   "metadata": {},
   "outputs": [],
   "source": [
    "mean_mnist_rndm = np.mean(rndm_mnist)\n",
    "mean_mnist_tppb = np.mean(tppb_mnist)\n",
    "\n",
    "mean_wave_rndm = np.mean(rndm_wave)\n",
    "mean_wave_tppb = np.mean(tppb_wave)\n",
    "\n",
    "mean_flip_rndm = np.mean(rndm_flip)\n",
    "mean_flip_tppb = np.mean(tppb_flip)"
   ]
  },
  {
   "cell_type": "code",
   "execution_count": 11,
   "id": "fba41054",
   "metadata": {},
   "outputs": [],
   "source": [
    "dev_mnist_rndm = np.std(rndm_mnist)\n",
    "dev_mnist_tppb = np.std(tppb_mnist)\n",
    "\n",
    "dev_wave_rndm = np.var(rndm_wave)\n",
    "dev_wave_tppb = np.var(tppb_wave)\n",
    "\n",
    "dev_flip_rndm = np.var(rndm_flip)\n",
    "dev_flip_tppb = np.var(tppb_flip)"
   ]
  },
  {
   "cell_type": "code",
   "execution_count": 12,
   "id": "de77f40b",
   "metadata": {},
   "outputs": [],
   "source": [
    "categories = ['Flip-flop', 'Wave reconstruction', 'Sequential MNIST']\n",
    "group_labels = ['Top-prob Pruning', 'Random Pruning']\n",
    "\n",
    "means1 = [mean_flip_rndm, mean_wave_rndm, mean_mnist_rndm]  # Mean values for group 1\n",
    "devs1 = [dev_flip_rndm, dev_wave_rndm, dev_mnist_rndm]    # Standard deviations or variances for group 1\n",
    "\n",
    "means2 = [mean_flip_tppb, mean_wave_tppb, mean_mnist_tppb]  # Mean values for group 2\n",
    "devs2 = [dev_flip_tppb, dev_wave_tppb, dev_mnist_tppb]  # Standard deviations or variances for group 2\n",
    "\n",
    "# Calculate error bars\n",
    "error1 = [0.5 * d for d in devs1]\n",
    "error2 = [0.5 * d for d in devs2]\n",
    "\n",
    "bar_width = 0.25"
   ]
  },
  {
   "cell_type": "code",
   "execution_count": 13,
   "id": "1944b629",
   "metadata": {},
   "outputs": [
    {
     "data": {
      "image/png": "[encoded data removed]",
      "text/plain": [
       "<Figure size 640x480 with 1 Axes>"
      ]
     },
     "metadata": {},
     "output_type": "display_data"
    }
   ],
   "source": [
    "# Set the positions of the bars on the x-axis\n",
    "r1 = np.arange(len(categories))\n",
    "r2 = [x + bar_width for x in r1]\n",
    "\n",
    "# Plot grouped bar plot\n",
    "fwarm = plt.figure()\n",
    "plt.bar(r1, means1, yerr=error1, capsize=2, width=bar_width, label='Random Pruning', color='grey')\n",
    "plt.bar(r2, means2, yerr=error2, capsize=2, width=bar_width, label='Top-prob Pruning', color='g')\n",
    "\n",
    "# Add xticks on the middle of the group bars\n",
    "plt.xlabel('Tasks')\n",
    "plt.xticks([r + bar_width/2 for r in range(len(categories))], categories)\n",
    "\n",
    "# Add labels and title\n",
    "plt.ylabel('Errors')\n",
    "plt.title('Errors of Pruned Models at Initialization')\n",
    "\n",
    "# Add legend\n",
    "plt.legend()\n",
    "\n",
    "# Show plot\n",
    "plt.show()"
   ]
  },
  {
   "cell_type": "code",
   "execution_count": null,
   "id": "6f700f41",
   "metadata": {},
   "outputs": [],
   "source": []
  },
  {
   "cell_type": "code",
   "execution_count": null,
   "id": "b455e750",
   "metadata": {},
   "outputs": [],
   "source": []
  },
  {
   "cell_type": "code",
   "execution_count": null,
   "id": "db8da2a8",
   "metadata": {},
   "outputs": [],
   "source": []
  },
  {
   "cell_type": "code",
   "execution_count": null,
   "id": "ff2df4aa",
   "metadata": {},
   "outputs": [],
   "source": []
  },
  {
   "cell_type": "code",
   "execution_count": null,
   "id": "09345cd4",
   "metadata": {},
   "outputs": [],
   "source": []
  },
  {
   "cell_type": "code",
   "execution_count": null,
   "id": "22954e62",
   "metadata": {},
   "outputs": [],
   "source": []
  },
  {
   "cell_type": "code",
   "execution_count": null,
   "id": "ddd2fe90",
   "metadata": {},
   "outputs": [],
   "source": []
  },
  {
   "cell_type": "code",
   "execution_count": null,
   "id": "690c6885",
   "metadata": {},
   "outputs": [],
   "source": []
  },
  {
   "cell_type": "code",
   "execution_count": null,
   "id": "491e70cb",
   "metadata": {},
   "outputs": [],
   "source": []
  },
  {
   "cell_type": "code",
   "execution_count": null,
   "id": "80ff4e29",
   "metadata": {},
   "outputs": [],
   "source": []
  },
  {
   "cell_type": "code",
   "execution_count": null,
   "id": "a09e8f54",
   "metadata": {},
   "outputs": [],
   "source": []
  },
  {
   "cell_type": "code",
   "execution_count": null,
   "id": "54648e3a",
   "metadata": {},
   "outputs": [],
   "source": []
  },
  {
   "cell_type": "code",
   "execution_count": null,
   "id": "88415640",
   "metadata": {},
   "outputs": [],
   "source": []
  },
  {
   "cell_type": "code",
   "execution_count": null,
   "id": "9fbf7103",
   "metadata": {},
   "outputs": [],
   "source": []
  },
  {
   "cell_type": "code",
   "execution_count": null,
   "id": "dfdf92d5",
   "metadata": {},
   "outputs": [],
   "source": []
  }
 ],
 "metadata": {
  "kernelspec": {
   "display_name": "Python 3 (ipykernel)",
   "language": "python",
   "name": "python3"
  },
  "language_info": {
   "codemirror_mode": {
    "name": "ipython",
    "version": 3
   },
   "file_extension": ".py",
   "mimetype": "text/x-python",
   "name": "python",
   "nbconvert_exporter": "python",
   "pygments_lexer": "ipython3",
   "version": "3.10.9"
  }
 },
 "nbformat": 4,
 "nbformat_minor": 5
}
