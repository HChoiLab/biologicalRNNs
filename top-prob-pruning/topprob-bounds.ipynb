{
 "cells": [
  {
   "cell_type": "markdown",
   "id": "a404c03f",
   "metadata": {},
   "source": [
    "#### Imports"
   ]
  },
  {
   "cell_type": "code",
   "execution_count": 1,
   "id": "6ea89ccc",
   "metadata": {},
   "outputs": [],
   "source": [
    "import numpy as np\n",
    "import matplotlib.pyplot as plt\n",
    "import networkx as nx\n",
    "import numpy as np\n",
    "from scipy.special import comb"
   ]
  },
  {
   "cell_type": "code",
   "execution_count": 2,
   "id": "36809a9d",
   "metadata": {},
   "outputs": [],
   "source": [
    "from tqdm import tqdm"
   ]
  },
  {
   "cell_type": "markdown",
   "id": "5cbfede6",
   "metadata": {},
   "source": [
    "#### Generate matrix"
   ]
  },
  {
   "cell_type": "code",
   "execution_count": 3,
   "id": "728c4b73",
   "metadata": {},
   "outputs": [],
   "source": [
    "N = 10\n",
    "N2 = N**2\n",
    "W = np.random.rand(N,N)"
   ]
  },
  {
   "cell_type": "code",
   "execution_count": 4,
   "id": "c0943b6c",
   "metadata": {},
   "outputs": [],
   "source": [
    "def normalize_W(W):\n",
    "    d1, d2 = W.shape\n",
    "    wm = np.max(np.abs(W))\n",
    "    W_prime = np.abs(W)/(wm)\n",
    "    return W_prime"
   ]
  },
  {
   "cell_type": "code",
   "execution_count": 5,
   "id": "a08edd15",
   "metadata": {},
   "outputs": [],
   "source": [
    "W_prime = normalize_W(W)"
   ]
  },
  {
   "cell_type": "code",
   "execution_count": 6,
   "id": "f62650fa",
   "metadata": {},
   "outputs": [],
   "source": [
    "def mst(W_prime=None, Adj=None):\n",
    "    \n",
    "    if W_prime is not None:\n",
    "        d1, d2 = W_prime.shape\n",
    "\n",
    "        cardV = np.sum(d1+d2)\n",
    "        cardMST = cardV - 1\n",
    "\n",
    "    if Adj is None:\n",
    "        Adj = np.zeros((cardV,cardV))\n",
    "\n",
    "        for ii in range(d1):\n",
    "            for jj in range(d2):\n",
    "                Adj[d1+jj,ii] = W_prime[ii,jj]\n",
    "\n",
    "        Adj += Adj.T\n",
    "\n",
    "    cardV, _ = Adj.shape\n",
    "    cardMST = cardV - 1\n",
    "\n",
    "    Gr = nx.from_numpy_array(Adj)\n",
    "    Tr = nx.maximum_spanning_tree(Gr)\n",
    "    \n",
    "    d_arr = np.zeros(cardMST).reshape(-1,1)\n",
    "    c_arr = np.ones(cardMST).reshape(-1,1)\n",
    "\n",
    "    for kk in range(cardMST):\n",
    "        d_arr[kk] = sorted(Tr.edges(data=True))[kk][2]['weight']\n",
    "    \n",
    "    return Tr, d_arr"
   ]
  },
  {
   "cell_type": "code",
   "execution_count": 7,
   "id": "7036b4f0",
   "metadata": {},
   "outputs": [],
   "source": [
    "Wtree, weights_mst = mst(W_prime)"
   ]
  },
  {
   "cell_type": "markdown",
   "id": "670e25d0",
   "metadata": {},
   "source": [
    "#### Random bounds"
   ]
  },
  {
   "cell_type": "code",
   "execution_count": 8,
   "id": "dd056cd1",
   "metadata": {},
   "outputs": [],
   "source": [
    "s = 0.1\n",
    "nSampled = int((1-s)*N2)\n",
    "nMST = 2*N - 1\n",
    "n = min(nMST, nSampled)"
   ]
  },
  {
   "cell_type": "code",
   "execution_count": 9,
   "id": "1aaf8958",
   "metadata": {},
   "outputs": [],
   "source": [
    "exp_overlap_random = 0.\n",
    "\n",
    "for k in range(1,n+1):\n",
    "    num = comb(nMST,k)*comb(N2-nMST,nSampled-k)\n",
    "    den = comb(N2,nSampled)\n",
    "    overlap = k*(num/den)\n",
    "    exp_overlap_random += overlap"
   ]
  },
  {
   "cell_type": "code",
   "execution_count": 10,
   "id": "87d382ac",
   "metadata": {},
   "outputs": [
    {
     "data": {
      "text/plain": [
       "0.9"
      ]
     },
     "execution_count": 10,
     "metadata": {},
     "output_type": "execute_result"
    }
   ],
   "source": [
    "frac_exp_overlap_random = exp_overlap_random/nMST\n",
    "frac_exp_overlap_random"
   ]
  },
  {
   "cell_type": "code",
   "execution_count": 11,
   "id": "eb848df7",
   "metadata": {},
   "outputs": [],
   "source": [
    "def random_bound(s, N):\n",
    "    nSampled = int((1-s)*N2)\n",
    "    nMST = 2*N - 1\n",
    "    n = min(nMST, nSampled)\n",
    "    \n",
    "    exp_overlap_random = 0.\n",
    "\n",
    "    for k in range(1,n+1):\n",
    "        num = comb(nMST,k)*comb(N2-nMST,nSampled-k)\n",
    "        den = comb(N2,nSampled)\n",
    "        overlap = k*(num/den)\n",
    "        exp_overlap_random += overlap\n",
    "\n",
    "    frac_exp_overlap_random = exp_overlap_random/nMST\n",
    "    return frac_exp_overlap_random"
   ]
  },
  {
   "cell_type": "code",
   "execution_count": 12,
   "id": "40dadb8c",
   "metadata": {},
   "outputs": [],
   "source": [
    "def random_prune(A, p):\n",
    "    \n",
    "    A += 1e-25\n",
    "    \n",
    "    # Ensure p is in the range [0, 1]\n",
    "    p = max(0, min(1, p))\n",
    "    # Adjust p based on the sparsity of the original matrix\n",
    "    p_adjusted = -1.0 + np.sum(A!=0)/np.prod(A.shape) + p\n",
    "    # Determine the threshold for setting elements to zero\n",
    "    threshold = 1.0 - p_adjusted\n",
    "    # Generate a random mask for sparsification\n",
    "    mask = np.random.random(A.shape)\n",
    "    # Set mask = 1 where A is already 0 and random elsewhere\n",
    "    mask = np.where(A==0, 1, mask)\n",
    "    # Apply the mask to the matrix to sparsify it\n",
    "    sparsified_matrix = np.where(mask > threshold, A, 0)\n",
    "    return sparsified_matrix"
   ]
  },
  {
   "cell_type": "code",
   "execution_count": 13,
   "id": "ff713a29",
   "metadata": {},
   "outputs": [],
   "source": [
    "W_prime_sparse_random = random_prune(W_prime,1-s)"
   ]
  },
  {
   "cell_type": "code",
   "execution_count": 14,
   "id": "b2c2fc9a",
   "metadata": {},
   "outputs": [
    {
     "data": {
      "text/plain": [
       "0.8421052631578947"
      ]
     },
     "execution_count": 14,
     "metadata": {},
     "output_type": "execute_result"
    }
   ],
   "source": [
    "random_overlap = len(np.intersect1d(weights_mst,W_prime_sparse_random.ravel()))/nMST\n",
    "random_overlap"
   ]
  },
  {
   "cell_type": "markdown",
   "id": "0acab9c3",
   "metadata": {},
   "source": [
    "#### Top-prob bounds"
   ]
  },
  {
   "cell_type": "code",
   "execution_count": 15,
   "id": "32b065cf",
   "metadata": {},
   "outputs": [],
   "source": [
    "WL1 = np.sum(W_prime)\n",
    "K = nSampled/WL1"
   ]
  },
  {
   "cell_type": "code",
   "execution_count": 16,
   "id": "fa2611a8",
   "metadata": {},
   "outputs": [],
   "source": [
    "adj_sort = np.sort(W_prime.ravel())[::-1]\n",
    "adj_argsort = np.argsort(W_prime.ravel())[::-1]"
   ]
  },
  {
   "cell_type": "code",
   "execution_count": 17,
   "id": "cc0763d2",
   "metadata": {},
   "outputs": [],
   "source": [
    "def distribute_equally(arr):\n",
    "    \n",
    "    r = np.sum(np.where(arr>1, arr-1, 0))\n",
    "    \n",
    "    while r>0:\n",
    "        # Count number of probs less than 1\n",
    "        count_less_than_one = sum(1 for num in arr if num < 1)\n",
    "        # Estimate delta to be added per number\n",
    "        delta = 0\n",
    "        if count_less_than_one > 0:\n",
    "            delta = r/count_less_than_one\n",
    "        # return new array with delta added appropriately\n",
    "        arr = np.where(arr<1, arr+delta, 1)\n",
    "        # calculate new residue\n",
    "        r = np.sum(np.where(arr>1, arr-1, 0))\n",
    "    \n",
    "    return arr"
   ]
  },
  {
   "cell_type": "code",
   "execution_count": 18,
   "id": "860ec44e",
   "metadata": {},
   "outputs": [],
   "source": [
    "def topprob_probmat(A, s):\n",
    "    \n",
    "    N_post = A.shape[0]\n",
    "    N_pre = A.shape[1]\n",
    "    A_sparse = np.zeros_like(A)\n",
    "    \n",
    "    z0 = np.sum(A==0)\n",
    "    if z0 > 0:\n",
    "        z = s*np.prod(A.shape)\n",
    "        s = (z-z0)/(np.prod(A.shape)-z0)\n",
    "    \n",
    "    K = N_pre*N_post*(1-s)/np.sum(np.abs(A))\n",
    "    Pmat = np.zeros_like(A)\n",
    "    \n",
    "    for ii in range(N_post):\n",
    "        for jj in range(N_pre):\n",
    "            \n",
    "            if np.abs(A[ii,jj])>0:\n",
    "                Pij = K*(np.abs(A[ii,jj]))\n",
    "                Pmat[ii,jj] = Pij\n",
    "    \n",
    "    Pmat_adjusted = distribute_equally(Pmat.ravel())\n",
    "    Pmat_adjusted = Pmat_adjusted.reshape(N_post, N_pre)\n",
    "    \n",
    "    for ii in range(N_post):\n",
    "        for jj in range(N_pre):\n",
    "            if np.abs(A[ii,jj])>0:\n",
    "                Pij = Pmat_adjusted[ii,jj]    \n",
    "                if np.random.uniform() < Pij:\n",
    "                    A_sparse[ii,jj] = A[ii,jj]\n",
    "    \n",
    "    return Pmat_adjusted, K, A_sparse"
   ]
  },
  {
   "cell_type": "code",
   "execution_count": 19,
   "id": "3034dc21",
   "metadata": {},
   "outputs": [],
   "source": [
    "sampProb, kappa, W_prime_sparse_topprob = topprob_probmat(W_prime,s)\n",
    "sampProb = sampProb.ravel()[adj_argsort]"
   ]
  },
  {
   "cell_type": "code",
   "execution_count": 20,
   "id": "47a09673",
   "metadata": {},
   "outputs": [],
   "source": [
    "exp_overlap_topprob = 0.\n",
    "\n",
    "for k in range(1,4):\n",
    "    exp_overlap_topprob += sampProb[k]\n",
    "    \n",
    "# for k in range(4,N2):\n",
    "#     num = comb(k-1,3)\n",
    "#     den = (N2 - (k-1))*comb(N2,k-1)\n",
    "#     exp_overlap_topprob += sampProb[k]*(1 - (num/den))\n",
    "\n",
    "for k in range(4,N+1):\n",
    "    num = (N-k)**2\n",
    "    den = N**2 - k\n",
    "    exp_overlap_topprob += sampProb[k]*((num/den))"
   ]
  },
  {
   "cell_type": "code",
   "execution_count": 21,
   "id": "8dcccc1c",
   "metadata": {},
   "outputs": [
    {
     "data": {
      "text/plain": [
       "0.20840063821585536"
      ]
     },
     "execution_count": 21,
     "metadata": {},
     "output_type": "execute_result"
    }
   ],
   "source": [
    "frac_exp_overlap_topprob = exp_overlap_topprob/n\n",
    "frac_exp_overlap_topprob"
   ]
  },
  {
   "cell_type": "code",
   "execution_count": 22,
   "id": "da01acdf",
   "metadata": {},
   "outputs": [
    {
     "data": {
      "text/plain": [
       "1.0"
      ]
     },
     "execution_count": 22,
     "metadata": {},
     "output_type": "execute_result"
    }
   ],
   "source": [
    "topprob_overlap = len(np.intersect1d(weights_mst,W_prime_sparse_topprob.ravel()))/nMST\n",
    "topprob_overlap"
   ]
  },
  {
   "cell_type": "code",
   "execution_count": 23,
   "id": "b653376f",
   "metadata": {},
   "outputs": [],
   "source": [
    "def topprob_bounds(s,W_prime):\n",
    "    \n",
    "    N = W_prime.shape[0]\n",
    "    \n",
    "    nSampled = int((1-s)*N2)\n",
    "    nMST = 2*N - 1\n",
    "    n = min(nMST, nSampled)\n",
    "    \n",
    "    if n==0:\n",
    "        n += 1e-20\n",
    "    \n",
    "    adj_sort = np.sort(W_prime.ravel())[::-1]\n",
    "    adj_argsort = np.argsort(W_prime.ravel())[::-1]\n",
    "    \n",
    "    sampProb, _, _ = topprob_probmat(W_prime,s)\n",
    "    sampProb = sampProb.ravel()[adj_argsort]\n",
    "    \n",
    "    exp_overlap_topprob = 0.\n",
    "\n",
    "    for k in range(1,4):\n",
    "        exp_overlap_topprob += sampProb[k]\n",
    "\n",
    "    for k in range(4,N+1):\n",
    "        num = (N-k)**2\n",
    "        den = N**2 - k\n",
    "        exp_overlap_topprob += sampProb[k]*((num/den))\n",
    "        \n",
    "    frac_exp_overlap_topprob = exp_overlap_topprob/n\n",
    "    return frac_exp_overlap_topprob"
   ]
  },
  {
   "cell_type": "code",
   "execution_count": 24,
   "id": "ea309e91",
   "metadata": {},
   "outputs": [
    {
     "data": {
      "text/plain": [
       "0.0"
      ]
     },
     "execution_count": 24,
     "metadata": {},
     "output_type": "execute_result"
    }
   ],
   "source": [
    "topprob_bounds(1,W_prime)"
   ]
  },
  {
   "cell_type": "markdown",
   "id": "55d22788",
   "metadata": {},
   "source": [
    "#### Simulations"
   ]
  },
  {
   "cell_type": "code",
   "execution_count": 25,
   "id": "20c986a4",
   "metadata": {},
   "outputs": [
    {
     "data": {
      "text/plain": [
       "array([0.  , 0.05, 0.1 , 0.15, 0.2 , 0.25, 0.3 , 0.35, 0.4 , 0.45, 0.5 ,\n",
       "       0.55, 0.6 , 0.65, 0.7 , 0.75, 0.8 , 0.85, 0.9 , 0.95, 1.  ])"
      ]
     },
     "execution_count": 25,
     "metadata": {},
     "output_type": "execute_result"
    }
   ],
   "source": [
    "s_levels = np.linspace(0,1,21)\n",
    "s_levels"
   ]
  },
  {
   "cell_type": "code",
   "execution_count": 26,
   "id": "a3f692ee",
   "metadata": {},
   "outputs": [],
   "source": [
    "N_levels = [10,50,100]"
   ]
  },
  {
   "cell_type": "code",
   "execution_count": 27,
   "id": "1c54ad22",
   "metadata": {},
   "outputs": [
    {
     "name": "stderr",
     "output_type": "stream",
     "text": [
      "3it [00:01,  1.62it/s]\n"
     ]
    }
   ],
   "source": [
    "topprobs_emp = np.zeros((len(s_levels),len(N_levels))).T\n",
    "random_emp = np.zeros((len(s_levels),len(N_levels))).T\n",
    "\n",
    "for iii, NN in tqdm(enumerate(N_levels)):\n",
    "    Wp = np.random.rand(NN,NN)\n",
    "    Wp = normalize_W(Wp)\n",
    "    Wptree, Wp_mst = mst(Wp)\n",
    "    \n",
    "    for jjj, ss in enumerate(s_levels):\n",
    "        _, _, Wp_sparse_topprob = topprob_probmat(Wp,ss)\n",
    "        Wp_sparse_random = random_prune(Wp,1-ss)\n",
    "        topprobs_emp[iii,jjj] = len(np.intersect1d(Wp_mst,Wp_sparse_topprob.ravel()))/len(Wp_mst)\n",
    "        random_emp[iii,jjj] = len(np.intersect1d(Wp_mst,Wp_sparse_random.ravel()))/len(Wp_mst)"
   ]
  },
  {
   "cell_type": "code",
   "execution_count": 28,
   "id": "47c70f1a",
   "metadata": {},
   "outputs": [
    {
     "name": "stderr",
     "output_type": "stream",
     "text": [
      "1it [00:00, 34.48it/s]\n"
     ]
    }
   ],
   "source": [
    "topprobs_th = np.zeros((len(s_levels),1)).T\n",
    "random_th = np.zeros((len(s_levels),1)).T\n",
    "\n",
    "for iii, NN in tqdm(enumerate([N_levels[0]])):\n",
    "    Wp = np.random.rand(NN,NN)\n",
    "    Wp = normalize_W(Wp)\n",
    "    Wptree, Wp_mst = mst(Wp)\n",
    "    \n",
    "    for jjj, ss in enumerate(s_levels):\n",
    "        topprobs_th[iii,jjj] = topprob_bounds(ss,Wp)\n",
    "        random_th[iii,jjj] = random_bound(ss,NN)"
   ]
  },
  {
   "cell_type": "code",
   "execution_count": 29,
   "id": "826f6c0f",
   "metadata": {},
   "outputs": [
    {
     "data": {
      "text/plain": [
       "Text(0.5, 1.0, 'Overlap with MST')"
      ]
     },
     "execution_count": 29,
     "metadata": {},
     "output_type": "execute_result"
    },
    {
     "data": {
      "image/png": "[encoded data removed]",
      "text/plain": [
       "<Figure size 640x480 with 1 Axes>"
      ]
     },
     "metadata": {},
     "output_type": "display_data"
    }
   ],
   "source": [
    "fbound = plt.figure()\n",
    "plt.plot(s_levels,np.mean(topprobs_th,0), 'o',color='k',label='Topprob lower bound')\n",
    "plt.plot(s_levels,np.mean(random_th,0), 'x',color='k',label='Random expectation')\n",
    "\n",
    "plt.errorbar(s_levels,np.mean(topprobs_emp,0), yerr=np.std(topprobs_emp,0), fmt='-o',color='g',label='Top-prob empirical')\n",
    "plt.errorbar(s_levels,np.mean(random_emp,0), yerr=np.std(random_emp,0), fmt='-x',color='grey',label='Random empirical')\n",
    "\n",
    "plt.legend()\n",
    "plt.xlabel('Sparsity')\n",
    "plt.ylabel('Fraction overlap')\n",
    "plt.title('Overlap with MST')"
   ]
  },
  {
   "cell_type": "code",
   "execution_count": 30,
   "id": "ba63f11b",
   "metadata": {},
   "outputs": [
    {
     "name": "stderr",
     "output_type": "stream",
     "text": [
      "The PostScript backend does not support transparency; partially transparent artists will be rendered opaque.\n"
     ]
    }
   ],
   "source": [
    "fbound.savefig('pruning-overlap-bounds-empirical.eps')"
   ]
  },
  {
   "cell_type": "markdown",
   "id": "183c5351",
   "metadata": {},
   "source": [
    "#### Distribution of non-zero weights"
   ]
  },
  {
   "cell_type": "code",
   "execution_count": 78,
   "id": "b67b6502",
   "metadata": {},
   "outputs": [],
   "source": [
    "import seaborn as sns"
   ]
  },
  {
   "cell_type": "code",
   "execution_count": 118,
   "id": "5ac0e02d",
   "metadata": {},
   "outputs": [],
   "source": [
    "# plt.imshow(Wp,cmap='binary_r')\n",
    "# plt.clim(0,1)\n",
    "# plt.colorbar()"
   ]
  },
  {
   "cell_type": "code",
   "execution_count": 111,
   "id": "d64d3b94",
   "metadata": {},
   "outputs": [],
   "source": [
    "sp = 0.9\n",
    "Wp_sparse_random = random_prune(Wp,1-sp)\n",
    "_, _, Wp_sparse_topprob = topprob_probmat(Wp,sp)"
   ]
  },
  {
   "cell_type": "code",
   "execution_count": 112,
   "id": "aab09f3d",
   "metadata": {},
   "outputs": [],
   "source": [
    "# plt.imshow(Wp_sparse_random,cmap='binary_r')\n",
    "# plt.clim(0,1)\n",
    "# plt.colorbar()"
   ]
  },
  {
   "cell_type": "code",
   "execution_count": 113,
   "id": "26c4be84",
   "metadata": {},
   "outputs": [],
   "source": [
    "# plt.imshow(Wp_sparse_topprob,cmap='binary_r')\n",
    "# plt.clim(0,1)\n",
    "# plt.colorbar()"
   ]
  },
  {
   "cell_type": "code",
   "execution_count": 117,
   "id": "07281201",
   "metadata": {},
   "outputs": [
    {
     "data": {
      "text/plain": [
       "Text(0.5, 1.0, 'Distribution of non-zero weights')"
      ]
     },
     "execution_count": 117,
     "metadata": {},
     "output_type": "execute_result"
    },
    {
     "data": {
      "image/png": "[encoded data removed]",
      "text/plain": [
       "<Figure size 640x480 with 1 Axes>"
      ]
     },
     "metadata": {},
     "output_type": "display_data"
    }
   ],
   "source": [
    "fdist = plt.figure()\n",
    "xmin = 0\n",
    "xmax = 1\n",
    "sns.kdeplot(Wp.ravel(),label='Original matrix',clip=(xmin, xmax),color='k',\n",
    "            common_norm=True,common_grid=True)\n",
    "\n",
    "Wp_sp_tppb = Wp_sparse_topprob.ravel()\n",
    "Wp_sp_tppb = Wp_sp_tppb[Wp_sp_tppb != 0]\n",
    "sns.kdeplot(Wp_sp_tppb.ravel(), label='Sparse - Topprob',clip=(xmin, xmax),color='g',\n",
    "            common_norm=True, common_grid=True)\n",
    "\n",
    "Wp_sp_rndm = Wp_sparse_random.ravel()\n",
    "Wp_sp_rndm = Wp_sp_rndm[Wp_sp_rndm != 0]\n",
    "sns.kdeplot(Wp_sp_rndm.ravel(), label='Sparse - Random',clip=(xmin, xmax),color='grey',\n",
    "            common_norm=True, common_grid=True)\n",
    "plt.legend()\n",
    "plt.xlabel('Relative magnitude of weights')\n",
    "plt.title('Distribution of non-zero weights')"
   ]
  },
  {
   "cell_type": "code",
   "execution_count": 115,
   "id": "9977ed52",
   "metadata": {},
   "outputs": [
    {
     "name": "stderr",
     "output_type": "stream",
     "text": [
      "The PostScript backend does not support transparency; partially transparent artists will be rendered opaque.\n"
     ]
    }
   ],
   "source": [
    "fdist.savefig('distribution-nnz-weights.eps')"
   ]
  },
  {
   "cell_type": "code",
   "execution_count": 106,
   "id": "3590e438",
   "metadata": {},
   "outputs": [],
   "source": [
    "# plt.figure()\n",
    "# xmin = 0\n",
    "# xmax = 1\n",
    "# sns.histplot(Wp.ravel(),label='Original matrix',color='k',kde=True)\n",
    "# sns.histplot(Wp_sp_tppb.ravel(), label='Sparse - Topprob',color='g',kde=True)\n",
    "# sns.histplot(Wp_sp_rndm.ravel(), label='Sparse - Random',color='grey',kde=True)\n",
    "# plt.legend()\n",
    "# plt.xlabel('Relative magnitude of weight')"
   ]
  }
 ],
 "metadata": {
  "kernelspec": {
   "display_name": "Python 3 (ipykernel)",
   "language": "python",
   "name": "python3"
  },
  "language_info": {
   "codemirror_mode": {
    "name": "ipython",
    "version": 3
   },
   "file_extension": ".py",
   "mimetype": "text/x-python",
   "name": "python",
   "nbconvert_exporter": "python",
   "pygments_lexer": "ipython3",
   "version": "3.10.9"
  }
 },
 "nbformat": 4,
 "nbformat_minor": 5
}
