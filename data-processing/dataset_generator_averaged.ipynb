{
 "cells": [
  {
   "cell_type": "markdown",
   "id": "093b011b",
   "metadata": {},
   "source": [
    "#### Imports"
   ]
  },
  {
   "cell_type": "code",
   "execution_count": null,
   "id": "06f34b93",
   "metadata": {},
   "outputs": [],
   "source": [
    "import numpy as np \n",
    "import pandas as pd \n",
    "\n",
    "import allensdk\n",
    "import allensdk.brain_observatory.behavior.behavior_project_cache as bpc\n",
    "\n",
    "import matplotlib.pyplot as plt \n",
    "import matplotlib\n",
    "import seaborn as sns\n",
    "\n",
    "import sklearn\n",
    "from sklearn.decomposition import PCA\n",
    "\n",
    "import torch\n",
    "from torch import nn\n",
    "from torchvision.transforms import Resize\n",
    "\n",
    "sns.set_context('notebook', font_scale=1.5, rc={'lines.markeredgewidth': 2})\n",
    "matplotlib.rcParams['figure.figsize'] = (10, 7)\n",
    "plt.rcParams['figure.dpi'] = 150"
   ]
  },
  {
   "cell_type": "code",
   "execution_count": null,
   "id": "9f83d5af",
   "metadata": {},
   "outputs": [],
   "source": [
    "%load_ext autoreload\n",
    "%autoreload 2\n",
    "%matplotlib inline"
   ]
  },
  {
   "cell_type": "code",
   "execution_count": null,
   "id": "2278b310",
   "metadata": {},
   "outputs": [],
   "source": [
    "#### Load data"
   ]
  },
  {
   "cell_type": "code",
   "execution_count": null,
   "id": "5f12f2d5",
   "metadata": {},
   "outputs": [],
   "source": [
    "cache_dir = r\"Data\"\n",
    "bc = bpc.VisualBehaviorOphysProjectCache.from_s3_cache(cache_dir=cache_dir)"
   ]
  },
  {
   "cell_type": "code",
   "execution_count": null,
   "id": "684e6c62",
   "metadata": {},
   "outputs": [],
   "source": [
    "behavior_session_table = bc.get_behavior_session_table()  \n",
    "ophys_session_table = bc.get_ophys_session_table()   \n",
    "experiment_table = bc.get_ophys_experiment_table()\n",
    "\n",
    "print(f\"Number of behavior sessions = {len(behavior_session_table)}\")\n",
    "print(f\"Number of ophys sessions = {len(ophys_session_table)}\")\n",
    "print(f\"Number of ophys experiments = {len(experiment_table)}\")"
   ]
  },
  {
   "cell_type": "code",
   "execution_count": null,
   "id": "65f4de69",
   "metadata": {},
   "outputs": [],
   "source": [
    "## Specific experiments\n",
    "\n",
    "## Length of recordings vary, but roughly in the 40k range\n",
    "\n",
    "## V1\n",
    "pyr_exp_V1_L23 = bc.get_behavior_ophys_experiment(pc_exp_table.index[1]) ## new\n",
    "sst_exp_V1_L23 = bc.get_behavior_ophys_experiment(sst_exp_table.index[0]) ## new\n",
    "vip_exp_V1_L23 = bc.get_behavior_ophys_experiment(vip_exp_table.index[0]) ## new\n",
    "\n",
    "pyr_exp_V1_L4 = bc.get_behavior_ophys_experiment(pc_exp_table.index[36]) ## new\n",
    "sst_exp_V1_L4 = bc.get_behavior_ophys_experiment(sst_exp_table.index[0]) ## new\n",
    "vip_exp_V1_L4 = bc.get_behavior_ophys_experiment(vip_exp_table.index[86]) ## new\n",
    "\n",
    "pyr_exp_V1_L5 = bc.get_behavior_ophys_experiment(pc_exp_table.index[36]) ## new\n",
    "sst_exp_V1_L5 = bc.get_behavior_ophys_experiment(sst_exp_table.index[120]) ## new\n",
    "vip_exp_V1_L5 = bc.get_behavior_ophys_experiment(vip_exp_table.index[417]) ## new\n",
    "\n",
    "## LM\n",
    "pyr_exp_LM_L23 = bc.get_behavior_ophys_experiment(pc_exp_table.index[52]) ## new \n",
    "sst_exp_LM_L23 = bc.get_behavior_ophys_experiment(sst_exp_table.index[0]) ## new\n",
    "vip_exp_LM_L23 = bc.get_behavior_ophys_experiment(vip_exp_table.index[42]) ## new\n",
    "\n",
    "pyr_exp_LM_L4 = bc.get_behavior_ophys_experiment(pc_exp_table.index[36]) ## new\n",
    "sst_exp_LM_L4 = bc.get_behavior_ophys_experiment(sst_exp_table.index[0]) ## new\n",
    "vip_exp_LM_L4 = bc.get_behavior_ophys_experiment(vip_exp_table.index[86]) ## new\n",
    "\n",
    "pyr_exp_LM_L5 = bc.get_behavior_ophys_experiment(pc_exp_table.index[36]) ## new\n",
    "sst_exp_LM_L5 = bc.get_behavior_ophys_experiment(sst_exp_table.index[120]) ## new\n",
    "vip_exp_LM_L5 = bc.get_behavior_ophys_experiment(vip_exp_table.index[199]) ## new"
   ]
  },
  {
   "cell_type": "code",
   "execution_count": null,
   "id": "c6e19ad9",
   "metadata": {},
   "outputs": [],
   "source": []
  },
  {
   "cell_type": "code",
   "execution_count": null,
   "id": "4970dace",
   "metadata": {},
   "outputs": [],
   "source": []
  },
  {
   "cell_type": "code",
   "execution_count": null,
   "id": "a4550ffa",
   "metadata": {},
   "outputs": [],
   "source": []
  },
  {
   "cell_type": "code",
   "execution_count": null,
   "id": "17b148aa",
   "metadata": {},
   "outputs": [],
   "source": []
  },
  {
   "cell_type": "code",
   "execution_count": null,
   "id": "f8dd41c4",
   "metadata": {},
   "outputs": [],
   "source": []
  },
  {
   "cell_type": "code",
   "execution_count": null,
   "id": "5e398e7c",
   "metadata": {},
   "outputs": [],
   "source": []
  },
  {
   "cell_type": "code",
   "execution_count": null,
   "id": "03ee9a2b",
   "metadata": {},
   "outputs": [],
   "source": []
  },
  {
   "cell_type": "code",
   "execution_count": null,
   "id": "d4be82fe",
   "metadata": {},
   "outputs": [],
   "source": []
  },
  {
   "cell_type": "code",
   "execution_count": null,
   "id": "22005ea3",
   "metadata": {},
   "outputs": [],
   "source": []
  },
  {
   "cell_type": "code",
   "execution_count": null,
   "id": "fdf21663",
   "metadata": {},
   "outputs": [],
   "source": []
  },
  {
   "cell_type": "code",
   "execution_count": null,
   "id": "fb6a2bdf",
   "metadata": {},
   "outputs": [],
   "source": []
  },
  {
   "cell_type": "code",
   "execution_count": null,
   "id": "1e455055",
   "metadata": {},
   "outputs": [],
   "source": []
  },
  {
   "cell_type": "code",
   "execution_count": null,
   "id": "604a44f6",
   "metadata": {},
   "outputs": [],
   "source": []
  },
  {
   "cell_type": "code",
   "execution_count": null,
   "id": "221f19dc",
   "metadata": {},
   "outputs": [],
   "source": []
  },
  {
   "cell_type": "code",
   "execution_count": null,
   "id": "73a7e298",
   "metadata": {},
   "outputs": [],
   "source": []
  },
  {
   "cell_type": "code",
   "execution_count": null,
   "id": "2d2aa068",
   "metadata": {},
   "outputs": [],
   "source": []
  },
  {
   "cell_type": "code",
   "execution_count": null,
   "id": "dce0b30c",
   "metadata": {},
   "outputs": [],
   "source": []
  }
 ],
 "metadata": {
  "kernelspec": {
   "display_name": "allensdk",
   "language": "python",
   "name": "allensdk"
  },
  "language_info": {
   "codemirror_mode": {
    "name": "ipython",
    "version": 3
   },
   "file_extension": ".py",
   "mimetype": "text/x-python",
   "name": "python",
   "nbconvert_exporter": "python",
   "pygments_lexer": "ipython3",
   "version": "3.8.17"
  }
 },
 "nbformat": 4,
 "nbformat_minor": 5
}
